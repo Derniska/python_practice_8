{
 "cells": [
  {
   "cell_type": "code",
   "execution_count": 11,
   "id": "69cc784e-f3bc-4f31-89e7-d458df6e702d",
   "metadata": {
    "tags": []
   },
   "outputs": [],
   "source": [
    "def digits_sum(n):\n",
    "    if n == 0:\n",
    "        return 0\n",
    "    else:\n",
    "        return n%10 + digits_sum(n // 10)"
   ]
  },
  {
   "cell_type": "code",
   "execution_count": 12,
   "id": "db341efb-36b2-4f4a-aaf9-ead62b195ed9",
   "metadata": {
    "tags": []
   },
   "outputs": [
    {
     "name": "stdout",
     "output_type": "stream",
     "text": [
      "25\n"
     ]
    }
   ],
   "source": [
    "print(digits_sum(53872))"
   ]
  },
  {
   "cell_type": "code",
   "execution_count": 17,
   "id": "7a1e570c-76e4-4637-a4b5-a0d33b91312e",
   "metadata": {
    "tags": []
   },
   "outputs": [],
   "source": [
    "def sum_all(n):\n",
    "    if n == 1:\n",
    "        return 1\n",
    "    else:\n",
    "        return n + sum_all(n-1)"
   ]
  },
  {
   "cell_type": "code",
   "execution_count": 21,
   "id": "bdd64d0f-3f53-4d45-a420-ef7cf9f13d22",
   "metadata": {
    "tags": []
   },
   "outputs": [
    {
     "name": "stdout",
     "output_type": "stream",
     "text": [
      "66\n"
     ]
    }
   ],
   "source": [
    "print(sum_all(11))"
   ]
  },
  {
   "cell_type": "code",
   "execution_count": 29,
   "id": "8dba6f1f-8bc0-457c-b078-a76802da55cf",
   "metadata": {
    "tags": []
   },
   "outputs": [],
   "source": [
    "def fibonacci(index):\n",
    "    if index == 0:\n",
    "        return 0\n",
    "    if index == 1 or index == 2:\n",
    "        return 1\n",
    "    return fibonacci(index - 2) + fibonacci(index - 1)"
   ]
  },
  {
   "cell_type": "code",
   "execution_count": 30,
   "id": "e46ae7ef-af1c-4afa-81d2-6179155f3ff0",
   "metadata": {
    "tags": []
   },
   "outputs": [
    {
     "name": "stdout",
     "output_type": "stream",
     "text": [
      "34\n"
     ]
    }
   ],
   "source": [
    "print(fibonacci(9))"
   ]
  },
  {
   "cell_type": "code",
   "execution_count": null,
   "id": "4570539c-0e0c-41e1-8e3d-ebadf70d77c6",
   "metadata": {},
   "outputs": [],
   "source": []
  }
 ],
 "metadata": {
  "kernelspec": {
   "display_name": "Python 3 (ipykernel)",
   "language": "python",
   "name": "python3"
  },
  "language_info": {
   "codemirror_mode": {
    "name": "ipython",
    "version": 3
   },
   "file_extension": ".py",
   "mimetype": "text/x-python",
   "name": "python",
   "nbconvert_exporter": "python",
   "pygments_lexer": "ipython3",
   "version": "3.10.8"
  }
 },
 "nbformat": 4,
 "nbformat_minor": 5
}
