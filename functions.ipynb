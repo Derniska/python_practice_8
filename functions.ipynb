{
 "cells": [
  {
   "cell_type": "code",
   "execution_count": 5,
   "id": "69cc784e-f3bc-4f31-89e7-d458df6e702d",
   "metadata": {
    "tags": []
   },
   "outputs": [],
   "source": [
    "def digits_sum(n):\n",
    "    if n == 0:\n",
    "        return 0\n",
    "    else:\n",
    "        return n%10 + digits_sum(n // 10)"
   ]
  },
  {
   "cell_type": "code",
   "execution_count": 6,
   "id": "db341efb-36b2-4f4a-aaf9-ead62b195ed9",
   "metadata": {
    "tags": []
   },
   "outputs": [
    {
     "name": "stdout",
     "output_type": "stream",
     "text": [
      "25\n"
     ]
    }
   ],
   "source": [
    "print(digits_sum(53872))"
   ]
  },
  {
   "cell_type": "code",
   "execution_count": 17,
   "id": "7a1e570c-76e4-4637-a4b5-a0d33b91312e",
   "metadata": {
    "tags": []
   },
   "outputs": [],
   "source": [
    "def sum_all(n):\n",
    "    if n == 1:\n",
    "        return 1\n",
    "    else:\n",
    "        return n + sum_all(n-1)"
   ]
  },
  {
   "cell_type": "code",
   "execution_count": 21,
   "id": "bdd64d0f-3f53-4d45-a420-ef7cf9f13d22",
   "metadata": {
    "tags": []
   },
   "outputs": [
    {
     "name": "stdout",
     "output_type": "stream",
     "text": [
      "66\n"
     ]
    }
   ],
   "source": [
    "print(sum_all(11))"
   ]
  },
  {
   "cell_type": "code",
   "execution_count": 10,
   "id": "8dba6f1f-8bc0-457c-b078-a76802da55cf",
   "metadata": {
    "tags": []
   },
   "outputs": [],
   "source": [
    "def fibonacci(index):\n",
    "    if index == 0:\n",
    "        return 0\n",
    "    if index == 1 or index == 2:\n",
    "        return 1\n",
    "    return fibonacci(index - 2) + fibonacci(index - 1)"
   ]
  },
  {
   "cell_type": "code",
   "execution_count": 20,
   "id": "e46ae7ef-af1c-4afa-81d2-6179155f3ff0",
   "metadata": {
    "tags": []
   },
   "outputs": [
    {
     "name": "stdout",
     "output_type": "stream",
     "text": [
      "1.898869514465332\n"
     ]
    }
   ],
   "source": [
    "print(fibonacci_t(35))"
   ]
  },
  {
   "cell_type": "code",
   "execution_count": 19,
   "id": "2ee026f8-0141-4138-8e3e-10d3e68c3a64",
   "metadata": {
    "tags": []
   },
   "outputs": [],
   "source": [
    "import time\n",
    "def fibonacci_t(index):\n",
    "    start = time.time()\n",
    "    fibonacci(index)\n",
    "    finish = time.time()\n",
    "    return finish - start"
   ]
  },
  {
   "cell_type": "code",
   "execution_count": 32,
   "id": "efd158ad-5957-4771-a4e4-2fcf2ba2009f",
   "metadata": {
    "tags": []
   },
   "outputs": [],
   "source": [
    "data = {'n' : [], 'time_comp' : []}\n",
    "for num in range(1,45,4):\n",
    "    res = fibonacci_t(num)\n",
    "    data['time_comp'].append(res)\n",
    "    data['n'].append(num)"
   ]
  },
  {
   "cell_type": "code",
   "execution_count": 33,
   "id": "32704610-9ae2-4ded-8a2d-373736fe1b87",
   "metadata": {
    "tags": []
   },
   "outputs": [
    {
     "data": {
      "text/plain": [
       "{'n': [1, 5, 9, 13, 17, 21, 25, 29, 33, 37, 41],\n",
       " 'time_comp': [1.9073486328125e-06,\n",
       "  3.5762786865234375e-06,\n",
       "  8.344650268554688e-06,\n",
       "  5.054473876953125e-05,\n",
       "  0.0003914833068847656,\n",
       "  0.002250194549560547,\n",
       "  0.01648688316345215,\n",
       "  0.11441636085510254,\n",
       "  0.7369952201843262,\n",
       "  4.9595046043396,\n",
       "  33.95046782493591]}"
      ]
     },
     "execution_count": 33,
     "metadata": {},
     "output_type": "execute_result"
    }
   ],
   "source": [
    "data"
   ]
  },
  {
   "cell_type": "code",
   "execution_count": 37,
   "id": "21b2c0ad-2a30-4127-95a6-36912818fc56",
   "metadata": {
    "tags": []
   },
   "outputs": [
    {
     "data": {
      "image/png": "[encoded data removed]",
      "text/plain": [
       "<Figure size 640x480 with 1 Axes>"
      ]
     },
     "metadata": {},
     "output_type": "display_data"
    }
   ],
   "source": [
    "import pandas as pd\n",
    "from matplotlib import pyplot as plt\n",
    "df = pd.DataFrame(data)\n",
    "plt.plot(df['n'], df['time_comp'], color = 'red')\n",
    "plt.xlabel('n', size = 13)\n",
    "plt.ylabel('time complexity', size = 13)\n",
    "plt.title('Exponential time complexity', size = 14)\n",
    "plt.show()"
   ]
  },
  {
   "cell_type": "code",
   "execution_count": 30,
   "id": "643deb27-a488-4e91-9645-dc1e910d23d1",
   "metadata": {
    "tags": []
   },
   "outputs": [
    {
     "data": {
      "text/html": [
       "<div>\n",
       "<style scoped>\n",
       "    .dataframe tbody tr th:only-of-type {\n",
       "        vertical-align: middle;\n",
       "    }\n",
       "\n",
       "    .dataframe tbody tr th {\n",
       "        vertical-align: top;\n",
       "    }\n",
       "\n",
       "    .dataframe thead th {\n",
       "        text-align: right;\n",
       "    }\n",
       "</style>\n",
       "<table border=\"1\" class=\"dataframe\">\n",
       "  <thead>\n",
       "    <tr style=\"text-align: right;\">\n",
       "      <th></th>\n",
       "      <th>n</th>\n",
       "      <th>time_comp</th>\n",
       "    </tr>\n",
       "  </thead>\n",
       "  <tbody>\n",
       "    <tr>\n",
       "      <th>0</th>\n",
       "      <td>1</td>\n",
       "      <td>0.000002</td>\n",
       "    </tr>\n",
       "    <tr>\n",
       "      <th>1</th>\n",
       "      <td>5</td>\n",
       "      <td>0.000003</td>\n",
       "    </tr>\n",
       "    <tr>\n",
       "      <th>2</th>\n",
       "      <td>9</td>\n",
       "      <td>0.000008</td>\n",
       "    </tr>\n",
       "    <tr>\n",
       "      <th>3</th>\n",
       "      <td>13</td>\n",
       "      <td>0.000054</td>\n",
       "    </tr>\n",
       "    <tr>\n",
       "      <th>4</th>\n",
       "      <td>17</td>\n",
       "      <td>0.000322</td>\n",
       "    </tr>\n",
       "    <tr>\n",
       "      <th>5</th>\n",
       "      <td>21</td>\n",
       "      <td>0.002376</td>\n",
       "    </tr>\n",
       "    <tr>\n",
       "      <th>6</th>\n",
       "      <td>25</td>\n",
       "      <td>0.015905</td>\n",
       "    </tr>\n",
       "    <tr>\n",
       "      <th>7</th>\n",
       "      <td>29</td>\n",
       "      <td>0.107183</td>\n",
       "    </tr>\n",
       "    <tr>\n",
       "      <th>8</th>\n",
       "      <td>33</td>\n",
       "      <td>0.728830</td>\n",
       "    </tr>\n",
       "    <tr>\n",
       "      <th>9</th>\n",
       "      <td>37</td>\n",
       "      <td>4.892905</td>\n",
       "    </tr>\n",
       "    <tr>\n",
       "      <th>10</th>\n",
       "      <td>41</td>\n",
       "      <td>33.656645</td>\n",
       "    </tr>\n",
       "  </tbody>\n",
       "</table>\n",
       "</div>"
      ],
      "text/plain": [
       "     n  time_comp\n",
       "0    1   0.000002\n",
       "1    5   0.000003\n",
       "2    9   0.000008\n",
       "3   13   0.000054\n",
       "4   17   0.000322\n",
       "5   21   0.002376\n",
       "6   25   0.015905\n",
       "7   29   0.107183\n",
       "8   33   0.728830\n",
       "9   37   4.892905\n",
       "10  41  33.656645"
      ]
     },
     "execution_count": 30,
     "metadata": {},
     "output_type": "execute_result"
    }
   ],
   "source": [
    "df\n"
   ]
  },
  {
   "cell_type": "code",
   "execution_count": null,
   "id": "01666a78-8ea5-4758-bba6-613156238ce5",
   "metadata": {},
   "outputs": [],
   "source": []
  }
 ],
 "metadata": {
  "kernelspec": {
   "display_name": "Python 3 (ipykernel)",
   "language": "python",
   "name": "python3"
  },
  "language_info": {
   "codemirror_mode": {
    "name": "ipython",
    "version": 3
   },
   "file_extension": ".py",
   "mimetype": "text/x-python",
   "name": "python",
   "nbconvert_exporter": "python",
   "pygments_lexer": "ipython3",
   "version": "3.10.8"
  }
 },
 "nbformat": 4,
 "nbformat_minor": 5
}
